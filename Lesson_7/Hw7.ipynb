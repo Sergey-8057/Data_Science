{
  "nbformat": 4,
  "nbformat_minor": 0,
  "metadata": {
    "colab": {
      "provenance": []
    },
    "kernelspec": {
      "name": "python3",
      "display_name": "Python 3"
    },
    "language_info": {
      "name": "python"
    }
  },
  "cells": [
    {
      "cell_type": "code",
      "source": [
        "!pip install scikit-surprise\n",
        "!pip install scikit-optimize\n",
        "!pip install pandas-profiling"
      ],
      "metadata": {
        "colab": {
          "base_uri": "https://localhost:8080/"
        },
        "id": "XhAoXlSpTcWl",
        "outputId": "39be67cb-f513-4ac6-af92-c5171ae479a4"
      },
      "execution_count": null,
      "outputs": [
        {
          "output_type": "stream",
          "name": "stdout",
          "text": [
            "Requirement already satisfied: scikit-surprise in /usr/local/lib/python3.10/dist-packages (1.1.3)\n",
            "Requirement already satisfied: joblib>=1.0.0 in /usr/local/lib/python3.10/dist-packages (from scikit-surprise) (1.3.2)\n",
            "Requirement already satisfied: numpy>=1.17.3 in /usr/local/lib/python3.10/dist-packages (from scikit-surprise) (1.23.5)\n",
            "Requirement already satisfied: scipy>=1.3.2 in /usr/local/lib/python3.10/dist-packages (from scikit-surprise) (1.11.4)\n",
            "Requirement already satisfied: scikit-optimize in /usr/local/lib/python3.10/dist-packages (0.9.0)\n",
            "Requirement already satisfied: joblib>=0.11 in /usr/local/lib/python3.10/dist-packages (from scikit-optimize) (1.3.2)\n",
            "Requirement already satisfied: pyaml>=16.9 in /usr/local/lib/python3.10/dist-packages (from scikit-optimize) (23.12.0)\n",
            "Requirement already satisfied: numpy>=1.13.3 in /usr/local/lib/python3.10/dist-packages (from scikit-optimize) (1.23.5)\n",
            "Requirement already satisfied: scipy>=0.19.1 in /usr/local/lib/python3.10/dist-packages (from scikit-optimize) (1.11.4)\n",
            "Requirement already satisfied: scikit-learn>=0.20.0 in /usr/local/lib/python3.10/dist-packages (from scikit-optimize) (1.2.2)\n",
            "Requirement already satisfied: PyYAML in /usr/local/lib/python3.10/dist-packages (from pyaml>=16.9->scikit-optimize) (6.0.1)\n",
            "Requirement already satisfied: threadpoolctl>=2.0.0 in /usr/local/lib/python3.10/dist-packages (from scikit-learn>=0.20.0->scikit-optimize) (3.2.0)\n",
            "Requirement already satisfied: pandas-profiling in /usr/local/lib/python3.10/dist-packages (3.6.6)\n",
            "Requirement already satisfied: ydata-profiling in /usr/local/lib/python3.10/dist-packages (from pandas-profiling) (4.6.4)\n",
            "Requirement already satisfied: scipy<1.12,>=1.4.1 in /usr/local/lib/python3.10/dist-packages (from ydata-profiling->pandas-profiling) (1.11.4)\n",
            "Requirement already satisfied: pandas!=1.4.0,<3,>1.1 in /usr/local/lib/python3.10/dist-packages (from ydata-profiling->pandas-profiling) (1.5.3)\n",
            "Requirement already satisfied: matplotlib<3.9,>=3.2 in /usr/local/lib/python3.10/dist-packages (from ydata-profiling->pandas-profiling) (3.7.1)\n",
            "Requirement already satisfied: pydantic>=2 in /usr/local/lib/python3.10/dist-packages (from ydata-profiling->pandas-profiling) (2.6.1)\n",
            "Requirement already satisfied: PyYAML<6.1,>=5.0.0 in /usr/local/lib/python3.10/dist-packages (from ydata-profiling->pandas-profiling) (6.0.1)\n",
            "Requirement already satisfied: jinja2<3.2,>=2.11.1 in /usr/local/lib/python3.10/dist-packages (from ydata-profiling->pandas-profiling) (3.1.3)\n",
            "Requirement already satisfied: visions[type_image_path]==0.7.5 in /usr/local/lib/python3.10/dist-packages (from ydata-profiling->pandas-profiling) (0.7.5)\n",
            "Requirement already satisfied: numpy<1.26,>=1.16.0 in /usr/local/lib/python3.10/dist-packages (from ydata-profiling->pandas-profiling) (1.23.5)\n",
            "Requirement already satisfied: htmlmin==0.1.12 in /usr/local/lib/python3.10/dist-packages (from ydata-profiling->pandas-profiling) (0.1.12)\n",
            "Requirement already satisfied: phik<0.13,>=0.11.1 in /usr/local/lib/python3.10/dist-packages (from ydata-profiling->pandas-profiling) (0.12.4)\n",
            "Requirement already satisfied: requests<3,>=2.24.0 in /usr/local/lib/python3.10/dist-packages (from ydata-profiling->pandas-profiling) (2.31.0)\n",
            "Requirement already satisfied: tqdm<5,>=4.48.2 in /usr/local/lib/python3.10/dist-packages (from ydata-profiling->pandas-profiling) (4.66.1)\n",
            "Requirement already satisfied: seaborn<0.13,>=0.10.1 in /usr/local/lib/python3.10/dist-packages (from ydata-profiling->pandas-profiling) (0.12.2)\n",
            "Requirement already satisfied: multimethod<2,>=1.4 in /usr/local/lib/python3.10/dist-packages (from ydata-profiling->pandas-profiling) (1.11)\n",
            "Requirement already satisfied: statsmodels<1,>=0.13.2 in /usr/local/lib/python3.10/dist-packages (from ydata-profiling->pandas-profiling) (0.14.1)\n",
            "Requirement already satisfied: typeguard<5,>=4.1.2 in /usr/local/lib/python3.10/dist-packages (from ydata-profiling->pandas-profiling) (4.1.5)\n",
            "Requirement already satisfied: imagehash==4.3.1 in /usr/local/lib/python3.10/dist-packages (from ydata-profiling->pandas-profiling) (4.3.1)\n",
            "Requirement already satisfied: wordcloud>=1.9.1 in /usr/local/lib/python3.10/dist-packages (from ydata-profiling->pandas-profiling) (1.9.3)\n",
            "Requirement already satisfied: dacite>=1.8 in /usr/local/lib/python3.10/dist-packages (from ydata-profiling->pandas-profiling) (1.8.1)\n",
            "Requirement already satisfied: numba<0.59.0,>=0.56.0 in /usr/local/lib/python3.10/dist-packages (from ydata-profiling->pandas-profiling) (0.58.1)\n",
            "Requirement already satisfied: PyWavelets in /usr/local/lib/python3.10/dist-packages (from imagehash==4.3.1->ydata-profiling->pandas-profiling) (1.5.0)\n",
            "Requirement already satisfied: pillow in /usr/local/lib/python3.10/dist-packages (from imagehash==4.3.1->ydata-profiling->pandas-profiling) (9.4.0)\n",
            "Requirement already satisfied: attrs>=19.3.0 in /usr/local/lib/python3.10/dist-packages (from visions[type_image_path]==0.7.5->ydata-profiling->pandas-profiling) (23.2.0)\n",
            "Requirement already satisfied: networkx>=2.4 in /usr/local/lib/python3.10/dist-packages (from visions[type_image_path]==0.7.5->ydata-profiling->pandas-profiling) (3.2.1)\n",
            "Requirement already satisfied: tangled-up-in-unicode>=0.0.4 in /usr/local/lib/python3.10/dist-packages (from visions[type_image_path]==0.7.5->ydata-profiling->pandas-profiling) (0.2.0)\n",
            "Requirement already satisfied: MarkupSafe>=2.0 in /usr/local/lib/python3.10/dist-packages (from jinja2<3.2,>=2.11.1->ydata-profiling->pandas-profiling) (2.1.5)\n",
            "Requirement already satisfied: contourpy>=1.0.1 in /usr/local/lib/python3.10/dist-packages (from matplotlib<3.9,>=3.2->ydata-profiling->pandas-profiling) (1.2.0)\n",
            "Requirement already satisfied: cycler>=0.10 in /usr/local/lib/python3.10/dist-packages (from matplotlib<3.9,>=3.2->ydata-profiling->pandas-profiling) (0.12.1)\n",
            "Requirement already satisfied: fonttools>=4.22.0 in /usr/local/lib/python3.10/dist-packages (from matplotlib<3.9,>=3.2->ydata-profiling->pandas-profiling) (4.48.1)\n",
            "Requirement already satisfied: kiwisolver>=1.0.1 in /usr/local/lib/python3.10/dist-packages (from matplotlib<3.9,>=3.2->ydata-profiling->pandas-profiling) (1.4.5)\n",
            "Requirement already satisfied: packaging>=20.0 in /usr/local/lib/python3.10/dist-packages (from matplotlib<3.9,>=3.2->ydata-profiling->pandas-profiling) (23.2)\n",
            "Requirement already satisfied: pyparsing>=2.3.1 in /usr/local/lib/python3.10/dist-packages (from matplotlib<3.9,>=3.2->ydata-profiling->pandas-profiling) (3.1.1)\n",
            "Requirement already satisfied: python-dateutil>=2.7 in /usr/local/lib/python3.10/dist-packages (from matplotlib<3.9,>=3.2->ydata-profiling->pandas-profiling) (2.8.2)\n",
            "Requirement already satisfied: llvmlite<0.42,>=0.41.0dev0 in /usr/local/lib/python3.10/dist-packages (from numba<0.59.0,>=0.56.0->ydata-profiling->pandas-profiling) (0.41.1)\n",
            "Requirement already satisfied: pytz>=2020.1 in /usr/local/lib/python3.10/dist-packages (from pandas!=1.4.0,<3,>1.1->ydata-profiling->pandas-profiling) (2023.4)\n",
            "Requirement already satisfied: joblib>=0.14.1 in /usr/local/lib/python3.10/dist-packages (from phik<0.13,>=0.11.1->ydata-profiling->pandas-profiling) (1.3.2)\n",
            "Requirement already satisfied: annotated-types>=0.4.0 in /usr/local/lib/python3.10/dist-packages (from pydantic>=2->ydata-profiling->pandas-profiling) (0.6.0)\n",
            "Requirement already satisfied: pydantic-core==2.16.2 in /usr/local/lib/python3.10/dist-packages (from pydantic>=2->ydata-profiling->pandas-profiling) (2.16.2)\n",
            "Requirement already satisfied: typing-extensions>=4.6.1 in /usr/local/lib/python3.10/dist-packages (from pydantic>=2->ydata-profiling->pandas-profiling) (4.9.0)\n",
            "Requirement already satisfied: charset-normalizer<4,>=2 in /usr/local/lib/python3.10/dist-packages (from requests<3,>=2.24.0->ydata-profiling->pandas-profiling) (3.3.2)\n",
            "Requirement already satisfied: idna<4,>=2.5 in /usr/local/lib/python3.10/dist-packages (from requests<3,>=2.24.0->ydata-profiling->pandas-profiling) (3.6)\n",
            "Requirement already satisfied: urllib3<3,>=1.21.1 in /usr/local/lib/python3.10/dist-packages (from requests<3,>=2.24.0->ydata-profiling->pandas-profiling) (2.0.7)\n",
            "Requirement already satisfied: certifi>=2017.4.17 in /usr/local/lib/python3.10/dist-packages (from requests<3,>=2.24.0->ydata-profiling->pandas-profiling) (2024.2.2)\n",
            "Requirement already satisfied: patsy>=0.5.4 in /usr/local/lib/python3.10/dist-packages (from statsmodels<1,>=0.13.2->ydata-profiling->pandas-profiling) (0.5.6)\n",
            "Requirement already satisfied: six in /usr/local/lib/python3.10/dist-packages (from patsy>=0.5.4->statsmodels<1,>=0.13.2->ydata-profiling->pandas-profiling) (1.16.0)\n"
          ]
        }
      ]
    },
    {
      "cell_type": "code",
      "execution_count": null,
      "metadata": {
        "colab": {
          "base_uri": "https://localhost:8080/"
        },
        "id": "Paj-qsmYSqcR",
        "outputId": "8b1801d0-bfae-4bde-ca5e-a1d877f8fd77"
      },
      "outputs": [
        {
          "output_type": "stream",
          "name": "stdout",
          "text": [
            "Evaluating RMSE, MAE of algorithm SVD on 5 split(s).\n",
            "\n",
            "                  Fold 1  Fold 2  Fold 3  Fold 4  Fold 5  Mean    Std     \n",
            "RMSE (testset)    0.9262  0.9376  0.9348  0.9351  0.9400  0.9347  0.0047  \n",
            "MAE (testset)     0.7314  0.7402  0.7347  0.7376  0.7431  0.7374  0.0041  \n",
            "Fit time          2.53    1.42    1.44    1.42    1.43    1.65    0.44    \n",
            "Test time         0.18    0.15    0.23    0.13    0.11    0.16    0.04    \n",
            "Evaluating RMSE, MAE of algorithm SVDpp on 5 split(s).\n",
            "\n",
            "                  Fold 1  Fold 2  Fold 3  Fold 4  Fold 5  Mean    Std     \n",
            "RMSE (testset)    0.9171  0.9169  0.9230  0.9143  0.9224  0.9187  0.0034  \n",
            "MAE (testset)     0.7192  0.7209  0.7256  0.7191  0.7213  0.7212  0.0024  \n",
            "Fit time          27.13   26.56   26.81   26.43   26.33   26.65   0.29    \n",
            "Test time         4.31    4.77    4.21    5.10    4.23    4.52    0.35    \n",
            "Evaluating RMSE, MAE of algorithm NMF on 5 split(s).\n",
            "\n",
            "                  Fold 1  Fold 2  Fold 3  Fold 4  Fold 5  Mean    Std     \n",
            "RMSE (testset)    0.9555  0.9653  0.9701  0.9535  0.9726  0.9634  0.0077  \n",
            "MAE (testset)     0.7529  0.7599  0.7619  0.7480  0.7623  0.7570  0.0056  \n",
            "Fit time          2.08    2.62    2.07    2.10    2.07    2.19    0.22    \n",
            "Test time         0.18    0.23    0.11    0.10    0.10    0.14    0.05    \n",
            "                SVD      SVDpp       NMF\n",
            "test_rmse  0.934746   0.918740  0.963410\n",
            "test_mae   0.737418   0.721234  0.757002\n",
            "fit_time   1.647008  26.650136  2.188715\n",
            "test_time  0.161115   4.523023  0.144451\n"
          ]
        }
      ],
      "source": [
        "import pandas as pd\n",
        "from surprise import SVD, SVDpp, NMF\n",
        "from surprise import Dataset\n",
        "from surprise.model_selection import cross_validate\n",
        "\n",
        "\n",
        "data = Dataset.load_builtin('ml-100k')\n",
        "alg_svd = SVD()\n",
        "alg_svdpp = SVDpp()\n",
        "alg_nmf = NMF()\n",
        "cv = 5\n",
        "measures = ['RMSE', 'MAE']\n",
        "\n",
        "# Виконання крос-валідації для алгоритму SVD\n",
        "result_svd = cross_validate(alg_svd, data, measures=measures, cv=cv, verbose=True)\n",
        "SVD_result = pd.DataFrame.from_dict(result_svd).mean(axis=0)\n",
        "\n",
        "# Виконання крос-валідації для алгоритму SVD++\n",
        "result_svdpp = cross_validate(alg_svdpp, data, measures=measures, cv=cv, verbose=True)\n",
        "SVDPP_result = pd.DataFrame.from_dict(result_svdpp).mean(axis=0)\n",
        "\n",
        "# Виконання крос-валідації для алгоритму NMF\n",
        "result_nmf = cross_validate(alg_nmf, data, measures=measures, cv=cv, verbose=True)\n",
        "NMF_result = pd.DataFrame.from_dict(result_nmf).mean(axis=0)\n",
        "\n",
        "# Створення підсумкового DataFrame для порівняння результатів\n",
        "result = pd.DataFrame(columns=['SVD', 'SVDpp', 'NMF'])\n",
        "result['SVD'] = SVD_result\n",
        "result['SVDpp'] = SVDPP_result\n",
        "result['NMF'] = NMF_result\n",
        "print(result)"
      ]
    },
    {
      "cell_type": "code",
      "source": [
        "import numpy as np\n",
        "from scipy.io import loadmat\n",
        "\n",
        "\n",
        "def load_movie_list(filename):\n",
        "    with open(filename, encoding='ISO-8859-1') as file:\n",
        "        movies = file.readlines()\n",
        "    movie_names = [movie.strip().split(' ', 1)[1] for movie in movies]\n",
        "    return movie_names\n",
        "\n",
        "def average_ratings(Y, R):\n",
        "    return np.sum(Y, axis=1) / np.sum(R, axis=1)\n",
        "\n",
        "def collaborative_filtering(Y, R):\n",
        "    num_users = Y.shape[1]\n",
        "    num_movies = Y.shape[0]\n",
        "    user_similarity = np.zeros((num_users, num_users))\n",
        "    for i in range(num_users):\n",
        "        for j in range(num_users):\n",
        "            if i != j:\n",
        "                mask = np.logical_and(R[:, i], R[:, j])\n",
        "                if np.sum(mask) > 0:\n",
        "                    user_similarity[i, j] = np.dot(Y[mask, i], Y[mask, j]) / (np.linalg.norm(Y[mask, i]) * np.linalg.norm(Y[mask, j]))\n",
        "    predicted_ratings = np.zeros((num_movies, num_users))\n",
        "    for i in range(num_movies):\n",
        "        for j in range(num_users):\n",
        "            if R[i, j] == 0:\n",
        "                users_rated_movie = np.nonzero(R[i, :])[0]\n",
        "                if len(users_rated_movie) > 0:\n",
        "                    weights = user_similarity[j, users_rated_movie]\n",
        "                    ratings = Y[i, users_rated_movie]\n",
        "                    predicted_ratings[i, j] = np.dot(weights, ratings) / np.sum(np.abs(weights))\n",
        "    return predicted_ratings\n",
        "\n",
        "def make_recommendations(predicted_ratings, movie_names, user_id, num_recommendations):\n",
        "    user_row = predicted_ratings[user_id - 1]\n",
        "    sorted_indices = np.argsort(user_row)[::-1]\n",
        "    top_indices = sorted_indices[:num_recommendations]\n",
        "    recommendations = [(idx + 1, movie_names[idx]) for idx in top_indices]\n",
        "    return recommendations\n",
        "\n",
        "# Завантаження даних\n",
        "movie_ids_file = '/content/drive/MyDrive/Colab Notebooks/movie_ids.txt'\n",
        "movie_names = load_movie_list(movie_ids_file)\n",
        "movies_file = '/content/drive/MyDrive/Colab Notebooks/movies.mat'\n",
        "data = loadmat(movies_file)\n",
        "Y, R = data['Y'], data['R']\n",
        "\n",
        "# Обчислення середніх рейтингів\n",
        "avg_ratings = average_ratings(Y, R)\n",
        "\n",
        "# Колаборативна фільтрація\n",
        "predicted_ratings = collaborative_filtering(Y, R)\n",
        "\n",
        "# Рекомендації для користувача\n",
        "user_id = 1\n",
        "num_recommendations = 5\n",
        "recommendations = make_recommendations(predicted_ratings, movie_names, user_id, num_recommendations)\n",
        "\n",
        "# Рекомендації\n",
        "for position, movie_name in recommendations:\n",
        "    print(f\"Position {position}: {movie_name}\")"
      ],
      "metadata": {
        "colab": {
          "base_uri": "https://localhost:8080/"
        },
        "id": "toOfouMdCfWZ",
        "outputId": "b39ae5b8-053f-4d85-e823-11d4b9204cce"
      },
      "execution_count": null,
      "outputs": [
        {
          "output_type": "stream",
          "name": "stdout",
          "text": [
            "Mounted at /content/drive\n"
          ]
        },
        {
          "output_type": "stream",
          "name": "stderr",
          "text": [
            "<ipython-input-7-b1cc15e234ac>:37: RuntimeWarning: invalid value encountered in double_scalars\n",
            "  predicted_ratings[i, j] = np.dot(weights, ratings) / np.sum(np.abs(weights))\n"
          ]
        },
        {
          "output_type": "stream",
          "name": "stdout",
          "text": [
            "Position 104: Theodore Rex (1995)\n",
            "Position 717: Juror, The (1996)\n",
            "Position 190: Henry V (1989)\n",
            "Position 837: Meet John Doe (1941)\n",
            "Position 334: U Turn (1997)\n"
          ]
        }
      ]
    }
  ]
}